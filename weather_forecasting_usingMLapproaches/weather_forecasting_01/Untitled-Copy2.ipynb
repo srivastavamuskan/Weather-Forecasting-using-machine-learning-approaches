{
 "cells": [
  {
   "cell_type": "code",
   "execution_count": 1,
   "id": "d849937f",
   "metadata": {},
   "outputs": [],
   "source": [
    "import pandas as pd\n",
    "import numpy as np\n",
    "from sklearn.model_selection import train_test_split\n",
    "from sklearn.impute import SimpleImputer\n",
    "from sklearn.preprocessing import MinMaxScaler\n",
    "from sklearn.linear_model import LinearRegression\n",
    "from sklearn.metrics import mean_squared_error"
   ]
  },
  {
   "cell_type": "code",
   "execution_count": 2,
   "id": "adb0d647",
   "metadata": {},
   "outputs": [],
   "source": [
    "data = pd.read_csv('weatherDataJaipur.csv')"
   ]
  },
  {
   "cell_type": "code",
   "execution_count": 3,
   "id": "dcb48e9e",
   "metadata": {},
   "outputs": [
    {
     "data": {
      "text/html": [
       "<div>\n",
       "<style scoped>\n",
       "    .dataframe tbody tr th:only-of-type {\n",
       "        vertical-align: middle;\n",
       "    }\n",
       "\n",
       "    .dataframe tbody tr th {\n",
       "        vertical-align: top;\n",
       "    }\n",
       "\n",
       "    .dataframe thead th {\n",
       "        text-align: right;\n",
       "    }\n",
       "</style>\n",
       "<table border=\"1\" class=\"dataframe\">\n",
       "  <thead>\n",
       "    <tr style=\"text-align: right;\">\n",
       "      <th></th>\n",
       "      <th>date</th>\n",
       "      <th>meantempm</th>\n",
       "      <th>meandewptm</th>\n",
       "      <th>meanpressurem</th>\n",
       "      <th>maxhumidity</th>\n",
       "      <th>minhumidity</th>\n",
       "      <th>maxtempm</th>\n",
       "      <th>mintempm</th>\n",
       "      <th>maxdewptm</th>\n",
       "      <th>mindewptm</th>\n",
       "      <th>maxpressurem</th>\n",
       "      <th>minpressurem</th>\n",
       "      <th>precipm</th>\n",
       "    </tr>\n",
       "  </thead>\n",
       "  <tbody>\n",
       "    <tr>\n",
       "      <th>0</th>\n",
       "      <td>01-05-2020</td>\n",
       "      <td>34</td>\n",
       "      <td>-1</td>\n",
       "      <td>1005.63</td>\n",
       "      <td>24</td>\n",
       "      <td>4</td>\n",
       "      <td>43</td>\n",
       "      <td>26</td>\n",
       "      <td>9</td>\n",
       "      <td>-10</td>\n",
       "      <td>1009</td>\n",
       "      <td>999</td>\n",
       "      <td>0.0</td>\n",
       "    </tr>\n",
       "    <tr>\n",
       "      <th>1</th>\n",
       "      <td>02-05-2020</td>\n",
       "      <td>36</td>\n",
       "      <td>4</td>\n",
       "      <td>1005.46</td>\n",
       "      <td>21</td>\n",
       "      <td>6</td>\n",
       "      <td>43</td>\n",
       "      <td>29</td>\n",
       "      <td>10</td>\n",
       "      <td>-2</td>\n",
       "      <td>1008</td>\n",
       "      <td>1001</td>\n",
       "      <td>0.0</td>\n",
       "    </tr>\n",
       "    <tr>\n",
       "      <th>2</th>\n",
       "      <td>03-05-2020</td>\n",
       "      <td>35</td>\n",
       "      <td>6</td>\n",
       "      <td>1006.00</td>\n",
       "      <td>27</td>\n",
       "      <td>5</td>\n",
       "      <td>41</td>\n",
       "      <td>29</td>\n",
       "      <td>12</td>\n",
       "      <td>-2</td>\n",
       "      <td>1009</td>\n",
       "      <td>1000</td>\n",
       "      <td>0.0</td>\n",
       "    </tr>\n",
       "    <tr>\n",
       "      <th>3</th>\n",
       "      <td>04-05-2020</td>\n",
       "      <td>34</td>\n",
       "      <td>7</td>\n",
       "      <td>1005.65</td>\n",
       "      <td>29</td>\n",
       "      <td>6</td>\n",
       "      <td>41</td>\n",
       "      <td>27</td>\n",
       "      <td>13</td>\n",
       "      <td>0</td>\n",
       "      <td>1008</td>\n",
       "      <td>1001</td>\n",
       "      <td>0.0</td>\n",
       "    </tr>\n",
       "    <tr>\n",
       "      <th>4</th>\n",
       "      <td>05-05-2020</td>\n",
       "      <td>31</td>\n",
       "      <td>11</td>\n",
       "      <td>1007.94</td>\n",
       "      <td>61</td>\n",
       "      <td>13</td>\n",
       "      <td>38</td>\n",
       "      <td>24</td>\n",
       "      <td>16</td>\n",
       "      <td>6</td>\n",
       "      <td>1011</td>\n",
       "      <td>1003</td>\n",
       "      <td>5.0</td>\n",
       "    </tr>\n",
       "  </tbody>\n",
       "</table>\n",
       "</div>"
      ],
      "text/plain": [
       "         date  meantempm  meandewptm  meanpressurem  maxhumidity  minhumidity  \\\n",
       "0  01-05-2020         34          -1        1005.63           24            4   \n",
       "1  02-05-2020         36           4        1005.46           21            6   \n",
       "2  03-05-2020         35           6        1006.00           27            5   \n",
       "3  04-05-2020         34           7        1005.65           29            6   \n",
       "4  05-05-2020         31          11        1007.94           61           13   \n",
       "\n",
       "   maxtempm  mintempm  maxdewptm  mindewptm  maxpressurem  minpressurem  \\\n",
       "0        43        26          9        -10          1009           999   \n",
       "1        43        29         10         -2          1008          1001   \n",
       "2        41        29         12         -2          1009          1000   \n",
       "3        41        27         13          0          1008          1001   \n",
       "4        38        24         16          6          1011          1003   \n",
       "\n",
       "   precipm  \n",
       "0      0.0  \n",
       "1      0.0  \n",
       "2      0.0  \n",
       "3      0.0  \n",
       "4      5.0  "
      ]
     },
     "execution_count": 3,
     "metadata": {},
     "output_type": "execute_result"
    }
   ],
   "source": [
    "data.head()"
   ]
  },
  {
   "cell_type": "code",
   "execution_count": 4,
   "id": "b85852bc",
   "metadata": {},
   "outputs": [
    {
     "data": {
      "text/html": [
       "<div>\n",
       "<style scoped>\n",
       "    .dataframe tbody tr th:only-of-type {\n",
       "        vertical-align: middle;\n",
       "    }\n",
       "\n",
       "    .dataframe tbody tr th {\n",
       "        vertical-align: top;\n",
       "    }\n",
       "\n",
       "    .dataframe thead th {\n",
       "        text-align: right;\n",
       "    }\n",
       "</style>\n",
       "<table border=\"1\" class=\"dataframe\">\n",
       "  <thead>\n",
       "    <tr style=\"text-align: right;\">\n",
       "      <th></th>\n",
       "      <th>date</th>\n",
       "      <th>meantempm</th>\n",
       "      <th>meandewptm</th>\n",
       "      <th>meanpressurem</th>\n",
       "      <th>maxhumidity</th>\n",
       "      <th>minhumidity</th>\n",
       "      <th>maxtempm</th>\n",
       "      <th>mintempm</th>\n",
       "      <th>maxdewptm</th>\n",
       "      <th>mindewptm</th>\n",
       "      <th>maxpressurem</th>\n",
       "      <th>minpressurem</th>\n",
       "      <th>precipm</th>\n",
       "    </tr>\n",
       "  </thead>\n",
       "  <tbody>\n",
       "    <tr>\n",
       "      <th>674</th>\n",
       "      <td>07-03-2022</td>\n",
       "      <td>24</td>\n",
       "      <td>2</td>\n",
       "      <td>1014.07</td>\n",
       "      <td>55</td>\n",
       "      <td>5</td>\n",
       "      <td>32</td>\n",
       "      <td>15</td>\n",
       "      <td>8</td>\n",
       "      <td>-6</td>\n",
       "      <td>1017</td>\n",
       "      <td>1011</td>\n",
       "      <td>0.0</td>\n",
       "    </tr>\n",
       "    <tr>\n",
       "      <th>675</th>\n",
       "      <td>08-03-2022</td>\n",
       "      <td>24</td>\n",
       "      <td>1</td>\n",
       "      <td>1014.41</td>\n",
       "      <td>42</td>\n",
       "      <td>7</td>\n",
       "      <td>32</td>\n",
       "      <td>15</td>\n",
       "      <td>5</td>\n",
       "      <td>-5</td>\n",
       "      <td>1017</td>\n",
       "      <td>1011</td>\n",
       "      <td>0.0</td>\n",
       "    </tr>\n",
       "    <tr>\n",
       "      <th>676</th>\n",
       "      <td>09-03-2022</td>\n",
       "      <td>26</td>\n",
       "      <td>3</td>\n",
       "      <td>1014.16</td>\n",
       "      <td>37</td>\n",
       "      <td>8</td>\n",
       "      <td>33</td>\n",
       "      <td>19</td>\n",
       "      <td>6</td>\n",
       "      <td>-1</td>\n",
       "      <td>1017</td>\n",
       "      <td>1009</td>\n",
       "      <td>0.0</td>\n",
       "    </tr>\n",
       "    <tr>\n",
       "      <th>677</th>\n",
       "      <td>10-03-2022</td>\n",
       "      <td>26</td>\n",
       "      <td>4</td>\n",
       "      <td>1013.76</td>\n",
       "      <td>38</td>\n",
       "      <td>6</td>\n",
       "      <td>34</td>\n",
       "      <td>19</td>\n",
       "      <td>8</td>\n",
       "      <td>0</td>\n",
       "      <td>1017</td>\n",
       "      <td>1009</td>\n",
       "      <td>0.0</td>\n",
       "    </tr>\n",
       "    <tr>\n",
       "      <th>678</th>\n",
       "      <td>11-03-2022</td>\n",
       "      <td>26</td>\n",
       "      <td>3</td>\n",
       "      <td>1013.00</td>\n",
       "      <td>46</td>\n",
       "      <td>6</td>\n",
       "      <td>34</td>\n",
       "      <td>18</td>\n",
       "      <td>10</td>\n",
       "      <td>-3</td>\n",
       "      <td>1016</td>\n",
       "      <td>1009</td>\n",
       "      <td>0.0</td>\n",
       "    </tr>\n",
       "  </tbody>\n",
       "</table>\n",
       "</div>"
      ],
      "text/plain": [
       "           date  meantempm  meandewptm  meanpressurem  maxhumidity  \\\n",
       "674  07-03-2022         24           2        1014.07           55   \n",
       "675  08-03-2022         24           1        1014.41           42   \n",
       "676  09-03-2022         26           3        1014.16           37   \n",
       "677  10-03-2022         26           4        1013.76           38   \n",
       "678  11-03-2022         26           3        1013.00           46   \n",
       "\n",
       "     minhumidity  maxtempm  mintempm  maxdewptm  mindewptm  maxpressurem  \\\n",
       "674            5        32        15          8         -6          1017   \n",
       "675            7        32        15          5         -5          1017   \n",
       "676            8        33        19          6         -1          1017   \n",
       "677            6        34        19          8          0          1017   \n",
       "678            6        34        18         10         -3          1016   \n",
       "\n",
       "     minpressurem  precipm  \n",
       "674          1011      0.0  \n",
       "675          1011      0.0  \n",
       "676          1009      0.0  \n",
       "677          1009      0.0  \n",
       "678          1009      0.0  "
      ]
     },
     "execution_count": 4,
     "metadata": {},
     "output_type": "execute_result"
    }
   ],
   "source": [
    "data.tail()"
   ]
  },
  {
   "cell_type": "code",
   "execution_count": 5,
   "id": "b3603cb6",
   "metadata": {},
   "outputs": [
    {
     "name": "stdout",
     "output_type": "stream",
     "text": [
      "Number of missing values in each column:\n",
      " date             0\n",
      "meantempm        0\n",
      "meandewptm       0\n",
      "meanpressurem    0\n",
      "maxhumidity      0\n",
      "minhumidity      0\n",
      "maxtempm         0\n",
      "mintempm         0\n",
      "maxdewptm        0\n",
      "mindewptm        0\n",
      "maxpressurem     0\n",
      "minpressurem     0\n",
      "precipm          0\n",
      "dtype: int64\n"
     ]
    }
   ],
   "source": [
    "print(\"Number of missing values in each column:\\n\", data.isna().sum())"
   ]
  },
  {
   "cell_type": "code",
   "execution_count": 6,
   "id": "0ef931c0",
   "metadata": {},
   "outputs": [],
   "source": [
    "selected_features = ['meantempm', 'meandewptm', 'meanpressurem', 'maxhumidity', 'minhumidity', 'maxtempm', 'mintempm', 'maxdewptm', 'mindewptm', 'maxpressurem', 'minpressurem', 'precipm']"
   ]
  },
  {
   "cell_type": "code",
   "execution_count": 7,
   "id": "edd34284",
   "metadata": {},
   "outputs": [],
   "source": [
    "data = data.drop(['date'], axis=1)\n",
    "scaler = MinMaxScaler()\n",
    "data[selected_features] = scaler.fit_transform(data[selected_features])"
   ]
  },
  {
   "cell_type": "code",
   "execution_count": 8,
   "id": "61a3f759",
   "metadata": {},
   "outputs": [],
   "source": [
    "X = data[selected_features]\n",
    "y = data['precipm']\n",
    "X_train, X_test, y_train, y_test = train_test_split(X, y, test_size=0.2, random_state=42)"
   ]
  },
  {
   "cell_type": "code",
   "execution_count": 9,
   "id": "c0777463",
   "metadata": {},
   "outputs": [],
   "source": [
    "model = LinearRegression()"
   ]
  },
  {
   "cell_type": "code",
   "execution_count": 10,
   "id": "37eaadb3",
   "metadata": {},
   "outputs": [
    {
     "data": {
      "text/html": [
       "<style>#sk-container-id-1 {color: black;background-color: white;}#sk-container-id-1 pre{padding: 0;}#sk-container-id-1 div.sk-toggleable {background-color: white;}#sk-container-id-1 label.sk-toggleable__label {cursor: pointer;display: block;width: 100%;margin-bottom: 0;padding: 0.3em;box-sizing: border-box;text-align: center;}#sk-container-id-1 label.sk-toggleable__label-arrow:before {content: \"▸\";float: left;margin-right: 0.25em;color: #696969;}#sk-container-id-1 label.sk-toggleable__label-arrow:hover:before {color: black;}#sk-container-id-1 div.sk-estimator:hover label.sk-toggleable__label-arrow:before {color: black;}#sk-container-id-1 div.sk-toggleable__content {max-height: 0;max-width: 0;overflow: hidden;text-align: left;background-color: #f0f8ff;}#sk-container-id-1 div.sk-toggleable__content pre {margin: 0.2em;color: black;border-radius: 0.25em;background-color: #f0f8ff;}#sk-container-id-1 input.sk-toggleable__control:checked~div.sk-toggleable__content {max-height: 200px;max-width: 100%;overflow: auto;}#sk-container-id-1 input.sk-toggleable__control:checked~label.sk-toggleable__label-arrow:before {content: \"▾\";}#sk-container-id-1 div.sk-estimator input.sk-toggleable__control:checked~label.sk-toggleable__label {background-color: #d4ebff;}#sk-container-id-1 div.sk-label input.sk-toggleable__control:checked~label.sk-toggleable__label {background-color: #d4ebff;}#sk-container-id-1 input.sk-hidden--visually {border: 0;clip: rect(1px 1px 1px 1px);clip: rect(1px, 1px, 1px, 1px);height: 1px;margin: -1px;overflow: hidden;padding: 0;position: absolute;width: 1px;}#sk-container-id-1 div.sk-estimator {font-family: monospace;background-color: #f0f8ff;border: 1px dotted black;border-radius: 0.25em;box-sizing: border-box;margin-bottom: 0.5em;}#sk-container-id-1 div.sk-estimator:hover {background-color: #d4ebff;}#sk-container-id-1 div.sk-parallel-item::after {content: \"\";width: 100%;border-bottom: 1px solid gray;flex-grow: 1;}#sk-container-id-1 div.sk-label:hover label.sk-toggleable__label {background-color: #d4ebff;}#sk-container-id-1 div.sk-serial::before {content: \"\";position: absolute;border-left: 1px solid gray;box-sizing: border-box;top: 0;bottom: 0;left: 50%;z-index: 0;}#sk-container-id-1 div.sk-serial {display: flex;flex-direction: column;align-items: center;background-color: white;padding-right: 0.2em;padding-left: 0.2em;position: relative;}#sk-container-id-1 div.sk-item {position: relative;z-index: 1;}#sk-container-id-1 div.sk-parallel {display: flex;align-items: stretch;justify-content: center;background-color: white;position: relative;}#sk-container-id-1 div.sk-item::before, #sk-container-id-1 div.sk-parallel-item::before {content: \"\";position: absolute;border-left: 1px solid gray;box-sizing: border-box;top: 0;bottom: 0;left: 50%;z-index: -1;}#sk-container-id-1 div.sk-parallel-item {display: flex;flex-direction: column;z-index: 1;position: relative;background-color: white;}#sk-container-id-1 div.sk-parallel-item:first-child::after {align-self: flex-end;width: 50%;}#sk-container-id-1 div.sk-parallel-item:last-child::after {align-self: flex-start;width: 50%;}#sk-container-id-1 div.sk-parallel-item:only-child::after {width: 0;}#sk-container-id-1 div.sk-dashed-wrapped {border: 1px dashed gray;margin: 0 0.4em 0.5em 0.4em;box-sizing: border-box;padding-bottom: 0.4em;background-color: white;}#sk-container-id-1 div.sk-label label {font-family: monospace;font-weight: bold;display: inline-block;line-height: 1.2em;}#sk-container-id-1 div.sk-label-container {text-align: center;}#sk-container-id-1 div.sk-container {/* jupyter's `normalize.less` sets `[hidden] { display: none; }` but bootstrap.min.css set `[hidden] { display: none !important; }` so we also need the `!important` here to be able to override the default hidden behavior on the sphinx rendered scikit-learn.org. See: https://github.com/scikit-learn/scikit-learn/issues/21755 */display: inline-block !important;position: relative;}#sk-container-id-1 div.sk-text-repr-fallback {display: none;}</style><div id=\"sk-container-id-1\" class=\"sk-top-container\"><div class=\"sk-text-repr-fallback\"><pre>LinearRegression()</pre><b>In a Jupyter environment, please rerun this cell to show the HTML representation or trust the notebook. <br />On GitHub, the HTML representation is unable to render, please try loading this page with nbviewer.org.</b></div><div class=\"sk-container\" hidden><div class=\"sk-item\"><div class=\"sk-estimator sk-toggleable\"><input class=\"sk-toggleable__control sk-hidden--visually\" id=\"sk-estimator-id-1\" type=\"checkbox\" checked><label for=\"sk-estimator-id-1\" class=\"sk-toggleable__label sk-toggleable__label-arrow\">LinearRegression</label><div class=\"sk-toggleable__content\"><pre>LinearRegression()</pre></div></div></div></div></div>"
      ],
      "text/plain": [
       "LinearRegression()"
      ]
     },
     "execution_count": 10,
     "metadata": {},
     "output_type": "execute_result"
    }
   ],
   "source": [
    "model.fit(X_train, y_train)"
   ]
  },
  {
   "cell_type": "code",
   "execution_count": 11,
   "id": "bb292f22",
   "metadata": {},
   "outputs": [],
   "source": [
    "y_pred = model.predict(X_test)"
   ]
  },
  {
   "cell_type": "code",
   "execution_count": 12,
   "id": "2b00d78d",
   "metadata": {},
   "outputs": [
    {
     "name": "stdout",
     "output_type": "stream",
     "text": [
      "Mean Squared Error: 7.312376112091836e-33\n"
     ]
    }
   ],
   "source": [
    "mse = mean_squared_error(y_test, y_pred)\n",
    "print(\"Mean Squared Error:\", mse)"
   ]
  },
  {
   "cell_type": "code",
   "execution_count": 13,
   "id": "1f479364",
   "metadata": {},
   "outputs": [],
   "source": [
    "test_data = pd.concat([X_test, y_test], axis=1)"
   ]
  },
  {
   "cell_type": "code",
   "execution_count": 14,
   "id": "83e1ea76",
   "metadata": {},
   "outputs": [],
   "source": [
    "test_data.to_csv('test_data.csv', index=False)"
   ]
  },
  {
   "cell_type": "code",
   "execution_count": 15,
   "id": "31b3042d",
   "metadata": {},
   "outputs": [],
   "source": [
    "test_data = pd.read_csv('test_data.csv')"
   ]
  },
  {
   "cell_type": "code",
   "execution_count": 16,
   "id": "80c6bc05",
   "metadata": {},
   "outputs": [
    {
     "data": {
      "text/html": [
       "<div>\n",
       "<style scoped>\n",
       "    .dataframe tbody tr th:only-of-type {\n",
       "        vertical-align: middle;\n",
       "    }\n",
       "\n",
       "    .dataframe tbody tr th {\n",
       "        vertical-align: top;\n",
       "    }\n",
       "\n",
       "    .dataframe thead th {\n",
       "        text-align: right;\n",
       "    }\n",
       "</style>\n",
       "<table border=\"1\" class=\"dataframe\">\n",
       "  <thead>\n",
       "    <tr style=\"text-align: right;\">\n",
       "      <th></th>\n",
       "      <th>meantempm</th>\n",
       "      <th>meandewptm</th>\n",
       "      <th>meanpressurem</th>\n",
       "      <th>maxhumidity</th>\n",
       "      <th>minhumidity</th>\n",
       "      <th>maxtempm</th>\n",
       "      <th>mintempm</th>\n",
       "      <th>maxdewptm</th>\n",
       "      <th>mindewptm</th>\n",
       "      <th>maxpressurem</th>\n",
       "      <th>minpressurem</th>\n",
       "      <th>precipm</th>\n",
       "      <th>precipm.1</th>\n",
       "    </tr>\n",
       "  </thead>\n",
       "  <tbody>\n",
       "    <tr>\n",
       "      <th>0</th>\n",
       "      <td>0.285714</td>\n",
       "      <td>0.194444</td>\n",
       "      <td>0.701550</td>\n",
       "      <td>0.400000</td>\n",
       "      <td>0.035294</td>\n",
       "      <td>0.250000</td>\n",
       "      <td>0.275862</td>\n",
       "      <td>0.172414</td>\n",
       "      <td>0.705882</td>\n",
       "      <td>0.703704</td>\n",
       "      <td>0.714286</td>\n",
       "      <td>0.00000</td>\n",
       "      <td>0.00000</td>\n",
       "    </tr>\n",
       "    <tr>\n",
       "      <th>1</th>\n",
       "      <td>0.785714</td>\n",
       "      <td>0.388889</td>\n",
       "      <td>0.365116</td>\n",
       "      <td>0.141176</td>\n",
       "      <td>0.000000</td>\n",
       "      <td>0.750000</td>\n",
       "      <td>0.758621</td>\n",
       "      <td>0.482759</td>\n",
       "      <td>0.773109</td>\n",
       "      <td>0.407407</td>\n",
       "      <td>0.392857</td>\n",
       "      <td>0.00000</td>\n",
       "      <td>0.00000</td>\n",
       "    </tr>\n",
       "    <tr>\n",
       "      <th>2</th>\n",
       "      <td>0.642857</td>\n",
       "      <td>0.972222</td>\n",
       "      <td>0.093411</td>\n",
       "      <td>1.000000</td>\n",
       "      <td>0.658824</td>\n",
       "      <td>0.464286</td>\n",
       "      <td>0.724138</td>\n",
       "      <td>0.896552</td>\n",
       "      <td>0.991597</td>\n",
       "      <td>0.296296</td>\n",
       "      <td>0.142857</td>\n",
       "      <td>0.00000</td>\n",
       "      <td>0.00000</td>\n",
       "    </tr>\n",
       "    <tr>\n",
       "      <th>3</th>\n",
       "      <td>0.857143</td>\n",
       "      <td>0.472222</td>\n",
       "      <td>0.416279</td>\n",
       "      <td>0.164706</td>\n",
       "      <td>0.035294</td>\n",
       "      <td>0.821429</td>\n",
       "      <td>0.862069</td>\n",
       "      <td>0.448276</td>\n",
       "      <td>0.806723</td>\n",
       "      <td>0.444444</td>\n",
       "      <td>0.392857</td>\n",
       "      <td>0.00000</td>\n",
       "      <td>0.00000</td>\n",
       "    </tr>\n",
       "    <tr>\n",
       "      <th>4</th>\n",
       "      <td>0.571429</td>\n",
       "      <td>0.972222</td>\n",
       "      <td>0.116667</td>\n",
       "      <td>1.000000</td>\n",
       "      <td>0.282353</td>\n",
       "      <td>0.392857</td>\n",
       "      <td>0.724138</td>\n",
       "      <td>0.896552</td>\n",
       "      <td>0.840336</td>\n",
       "      <td>0.148148</td>\n",
       "      <td>0.214286</td>\n",
       "      <td>0.45614</td>\n",
       "      <td>0.45614</td>\n",
       "    </tr>\n",
       "  </tbody>\n",
       "</table>\n",
       "</div>"
      ],
      "text/plain": [
       "   meantempm  meandewptm  meanpressurem  maxhumidity  minhumidity  maxtempm  \\\n",
       "0   0.285714    0.194444       0.701550     0.400000     0.035294  0.250000   \n",
       "1   0.785714    0.388889       0.365116     0.141176     0.000000  0.750000   \n",
       "2   0.642857    0.972222       0.093411     1.000000     0.658824  0.464286   \n",
       "3   0.857143    0.472222       0.416279     0.164706     0.035294  0.821429   \n",
       "4   0.571429    0.972222       0.116667     1.000000     0.282353  0.392857   \n",
       "\n",
       "   mintempm  maxdewptm  mindewptm  maxpressurem  minpressurem  precipm  \\\n",
       "0  0.275862   0.172414   0.705882      0.703704      0.714286  0.00000   \n",
       "1  0.758621   0.482759   0.773109      0.407407      0.392857  0.00000   \n",
       "2  0.724138   0.896552   0.991597      0.296296      0.142857  0.00000   \n",
       "3  0.862069   0.448276   0.806723      0.444444      0.392857  0.00000   \n",
       "4  0.724138   0.896552   0.840336      0.148148      0.214286  0.45614   \n",
       "\n",
       "   precipm.1  \n",
       "0    0.00000  \n",
       "1    0.00000  \n",
       "2    0.00000  \n",
       "3    0.00000  \n",
       "4    0.45614  "
      ]
     },
     "execution_count": 16,
     "metadata": {},
     "output_type": "execute_result"
    }
   ],
   "source": [
    "test_data.head()"
   ]
  },
  {
   "cell_type": "code",
   "execution_count": 17,
   "id": "96be99d5",
   "metadata": {},
   "outputs": [],
   "source": [
    "test_data[selected_features] = scaler.transform(test_data[selected_features])\n",
    "X_test_new = test_data[selected_features]"
   ]
  },
  {
   "cell_type": "code",
   "execution_count": 18,
   "id": "9a6cfc93",
   "metadata": {},
   "outputs": [],
   "source": [
    "y_pred_new = model.predict(X_test_new)"
   ]
  },
  {
   "cell_type": "code",
   "execution_count": 19,
   "id": "f1e1b66f",
   "metadata": {
    "scrolled": true
   },
   "outputs": [
    {
     "name": "stdout",
     "output_type": "stream",
     "text": [
      "Predicted weather labels for the test data:\n",
      "[8.51513090e-15 8.51667600e-15 8.51323887e-15 8.51720284e-15\n",
      " 8.00246230e-03 8.51792758e-15 8.51386756e-15 8.51489373e-15\n",
      " 8.51505350e-15 9.23361034e-04 8.51622875e-15 8.51742871e-15\n",
      " 8.51434718e-15 8.51373868e-15 8.51418807e-15 8.51665651e-15\n",
      " 8.51536834e-15 6.15574023e-04 8.51527265e-15 1.23114805e-04\n",
      " 8.51485880e-15 8.51302216e-15 8.51794426e-15 8.51627030e-15\n",
      " 8.51502208e-15 8.51656930e-15 8.51348590e-15 8.51356764e-15\n",
      " 7.07910126e-03 8.51438589e-15 8.51637002e-15 8.51195299e-15\n",
      " 8.51046021e-15 1.56971376e-02 8.51669936e-15 8.51579571e-15\n",
      " 9.23361034e-04 2.77008310e-03 8.51544638e-15 1.23114805e-03\n",
      " 8.51490729e-15 8.51487602e-15 6.15574023e-04 8.51521553e-15\n",
      " 8.51474942e-15 8.51464259e-15 8.51367234e-15 8.51611405e-15\n",
      " 8.51678539e-15 8.51386475e-15 8.51182694e-15 8.51945825e-15\n",
      " 6.15574023e-04 8.51461477e-15 8.51358046e-15 8.51709665e-15\n",
      " 8.51238284e-15 8.51355586e-15 8.51376885e-15 8.51730371e-15\n",
      " 8.51536810e-15 8.51495211e-15 8.51539506e-15 8.51509626e-15\n",
      " 8.51163351e-15 8.51695779e-15 8.51463631e-15 8.51670241e-15\n",
      " 8.51496387e-15 8.51466363e-15 1.53893506e-03 8.51387100e-15\n",
      " 8.51416160e-15 8.51486831e-15 8.51634774e-15 8.51183204e-15\n",
      " 8.51689354e-15 2.15450908e-04 8.51053452e-15 8.51508607e-15\n",
      " 8.51592503e-15 4.92459218e-03 8.51735469e-15 8.51595698e-15\n",
      " 8.51751310e-15 8.51462800e-15 8.51791793e-15 8.51654550e-15\n",
      " 8.51615167e-15 6.15574023e-04 8.51600231e-15 8.51465245e-15\n",
      " 8.51636277e-15 1.53893506e-04 8.51286109e-15 8.51965751e-15\n",
      " 8.51575802e-15 8.51996660e-15 8.51766564e-15 1.75438596e-02\n",
      " 8.51488083e-15 8.51498396e-15 8.51408659e-15 2.77008310e-03\n",
      " 8.51333122e-15 8.51424692e-15 8.51396935e-15 8.51442233e-15\n",
      " 8.51356088e-15 8.51534806e-15 8.51631318e-15 8.51466253e-15\n",
      " 8.51685663e-15 8.51509168e-15 8.51723163e-15 8.51504244e-15\n",
      " 6.15574023e-04 1.23114805e-04 6.15574023e-05 8.51417752e-15\n",
      " 4.30901816e-03 8.51295325e-15 8.51453697e-15 8.51418247e-15\n",
      " 8.51480146e-15 8.51414517e-15 8.51757704e-15 8.51611341e-15\n",
      " 8.51394556e-15 8.51481175e-15 3.07787011e-04 6.15574023e-05\n",
      " 8.51466578e-15 9.23361034e-04 8.51452710e-15 8.51592333e-15]\n"
     ]
    }
   ],
   "source": [
    "print(\"Predicted weather labels for the test data:\")\n",
    "print(y_pred_new)"
   ]
  },
  {
   "cell_type": "code",
   "execution_count": 20,
   "id": "34d29e9f",
   "metadata": {},
   "outputs": [],
   "source": [
    "from sklearn.metrics import mean_absolute_error, mean_squared_error, r2_score"
   ]
  },
  {
   "cell_type": "code",
   "execution_count": 21,
   "id": "8c1d66ae",
   "metadata": {},
   "outputs": [],
   "source": [
    "y_pred = model.predict(X_test)"
   ]
  },
  {
   "cell_type": "code",
   "execution_count": 22,
   "id": "de0a6e6a",
   "metadata": {},
   "outputs": [],
   "source": [
    "mae = mean_absolute_error(y_test, y_pred)\n",
    "mse = mean_squared_error(y_test, y_pred)\n",
    "r2 = r2_score(y_test, y_pred)"
   ]
  },
  {
   "cell_type": "code",
   "execution_count": 23,
   "id": "0d619a6b",
   "metadata": {},
   "outputs": [
    {
     "name": "stdout",
     "output_type": "stream",
     "text": [
      "Mean Absolute Error: 5.90289394585625e-17\n",
      "Mean Squared Error: 7.312376112091836e-33\n",
      "R-squared Score: 1.0\n"
     ]
    }
   ],
   "source": [
    "print('Mean Absolute Error:', mae)\n",
    "print('Mean Squared Error:', mse)\n",
    "print('R-squared Score:', r2)"
   ]
  },
  {
   "cell_type": "code",
   "execution_count": 24,
   "id": "15ae8056",
   "metadata": {},
   "outputs": [
    {
     "ename": "NameError",
     "evalue": "name 'accuracy_score' is not defined",
     "output_type": "error",
     "traceback": [
      "\u001b[1;31m---------------------------------------------------------------------------\u001b[0m",
      "\u001b[1;31mNameError\u001b[0m                                 Traceback (most recent call last)",
      "Cell \u001b[1;32mIn[24], line 1\u001b[0m\n\u001b[1;32m----> 1\u001b[0m accuracy \u001b[38;5;241m=\u001b[39m \u001b[43maccuracy_score\u001b[49m(y_test, y_pred)\n\u001b[0;32m      2\u001b[0m \u001b[38;5;28mprint\u001b[39m(\u001b[38;5;124m'\u001b[39m\u001b[38;5;124mModel accuracy:\u001b[39m\u001b[38;5;124m'\u001b[39m, accuracy)\n",
      "\u001b[1;31mNameError\u001b[0m: name 'accuracy_score' is not defined"
     ]
    }
   ],
   "source": [
    "accuracy = accuracy_score(y_test, y_pred)\n",
    "print('Model accuracy:', accuracy)"
   ]
  },
  {
   "cell_type": "code",
   "execution_count": 25,
   "id": "5450c851",
   "metadata": {},
   "outputs": [],
   "source": [
    "from sklearn.metrics import accuracy_score"
   ]
  },
  {
   "cell_type": "code",
   "execution_count": 26,
   "id": "b9a12cbd",
   "metadata": {},
   "outputs": [
    {
     "ename": "ValueError",
     "evalue": "continuous is not supported",
     "output_type": "error",
     "traceback": [
      "\u001b[1;31m---------------------------------------------------------------------------\u001b[0m",
      "\u001b[1;31mValueError\u001b[0m                                Traceback (most recent call last)",
      "Cell \u001b[1;32mIn[26], line 1\u001b[0m\n\u001b[1;32m----> 1\u001b[0m accuracy \u001b[38;5;241m=\u001b[39m \u001b[43maccuracy_score\u001b[49m\u001b[43m(\u001b[49m\u001b[43my_test\u001b[49m\u001b[43m,\u001b[49m\u001b[43m \u001b[49m\u001b[43my_pred\u001b[49m\u001b[43m)\u001b[49m\n\u001b[0;32m      2\u001b[0m \u001b[38;5;28mprint\u001b[39m(\u001b[38;5;124m'\u001b[39m\u001b[38;5;124mModel accuracy:\u001b[39m\u001b[38;5;124m'\u001b[39m, accuracy)\n",
      "File \u001b[1;32m~\\anaconda3\\lib\\site-packages\\sklearn\\utils\\_param_validation.py:192\u001b[0m, in \u001b[0;36mvalidate_params.<locals>.decorator.<locals>.wrapper\u001b[1;34m(*args, **kwargs)\u001b[0m\n\u001b[0;32m    187\u001b[0m validate_parameter_constraints(\n\u001b[0;32m    188\u001b[0m     parameter_constraints, params, caller_name\u001b[38;5;241m=\u001b[39mfunc\u001b[38;5;241m.\u001b[39m\u001b[38;5;18m__qualname__\u001b[39m\n\u001b[0;32m    189\u001b[0m )\n\u001b[0;32m    191\u001b[0m \u001b[38;5;28;01mtry\u001b[39;00m:\n\u001b[1;32m--> 192\u001b[0m     \u001b[38;5;28;01mreturn\u001b[39;00m func(\u001b[38;5;241m*\u001b[39margs, \u001b[38;5;241m*\u001b[39m\u001b[38;5;241m*\u001b[39mkwargs)\n\u001b[0;32m    193\u001b[0m \u001b[38;5;28;01mexcept\u001b[39;00m InvalidParameterError \u001b[38;5;28;01mas\u001b[39;00m e:\n\u001b[0;32m    194\u001b[0m     \u001b[38;5;66;03m# When the function is just a wrapper around an estimator, we allow\u001b[39;00m\n\u001b[0;32m    195\u001b[0m     \u001b[38;5;66;03m# the function to delegate validation to the estimator, but we replace\u001b[39;00m\n\u001b[0;32m    196\u001b[0m     \u001b[38;5;66;03m# the name of the estimator by the name of the function in the error\u001b[39;00m\n\u001b[0;32m    197\u001b[0m     \u001b[38;5;66;03m# message to avoid confusion.\u001b[39;00m\n\u001b[0;32m    198\u001b[0m     msg \u001b[38;5;241m=\u001b[39m re\u001b[38;5;241m.\u001b[39msub(\n\u001b[0;32m    199\u001b[0m         \u001b[38;5;124mr\u001b[39m\u001b[38;5;124m\"\u001b[39m\u001b[38;5;124mparameter of \u001b[39m\u001b[38;5;124m\\\u001b[39m\u001b[38;5;124mw+ must be\u001b[39m\u001b[38;5;124m\"\u001b[39m,\n\u001b[0;32m    200\u001b[0m         \u001b[38;5;124mf\u001b[39m\u001b[38;5;124m\"\u001b[39m\u001b[38;5;124mparameter of \u001b[39m\u001b[38;5;132;01m{\u001b[39;00mfunc\u001b[38;5;241m.\u001b[39m\u001b[38;5;18m__qualname__\u001b[39m\u001b[38;5;132;01m}\u001b[39;00m\u001b[38;5;124m must be\u001b[39m\u001b[38;5;124m\"\u001b[39m,\n\u001b[0;32m    201\u001b[0m         \u001b[38;5;28mstr\u001b[39m(e),\n\u001b[0;32m    202\u001b[0m     )\n",
      "File \u001b[1;32m~\\anaconda3\\lib\\site-packages\\sklearn\\metrics\\_classification.py:221\u001b[0m, in \u001b[0;36maccuracy_score\u001b[1;34m(y_true, y_pred, normalize, sample_weight)\u001b[0m\n\u001b[0;32m    155\u001b[0m \u001b[38;5;124;03m\"\"\"Accuracy classification score.\u001b[39;00m\n\u001b[0;32m    156\u001b[0m \n\u001b[0;32m    157\u001b[0m \u001b[38;5;124;03mIn multilabel classification, this function computes subset accuracy:\u001b[39;00m\n\u001b[1;32m   (...)\u001b[0m\n\u001b[0;32m    217\u001b[0m \u001b[38;5;124;03m0.5\u001b[39;00m\n\u001b[0;32m    218\u001b[0m \u001b[38;5;124;03m\"\"\"\u001b[39;00m\n\u001b[0;32m    220\u001b[0m \u001b[38;5;66;03m# Compute accuracy for each possible representation\u001b[39;00m\n\u001b[1;32m--> 221\u001b[0m y_type, y_true, y_pred \u001b[38;5;241m=\u001b[39m \u001b[43m_check_targets\u001b[49m\u001b[43m(\u001b[49m\u001b[43my_true\u001b[49m\u001b[43m,\u001b[49m\u001b[43m \u001b[49m\u001b[43my_pred\u001b[49m\u001b[43m)\u001b[49m\n\u001b[0;32m    222\u001b[0m check_consistent_length(y_true, y_pred, sample_weight)\n\u001b[0;32m    223\u001b[0m \u001b[38;5;28;01mif\u001b[39;00m y_type\u001b[38;5;241m.\u001b[39mstartswith(\u001b[38;5;124m\"\u001b[39m\u001b[38;5;124mmultilabel\u001b[39m\u001b[38;5;124m\"\u001b[39m):\n",
      "File \u001b[1;32m~\\anaconda3\\lib\\site-packages\\sklearn\\metrics\\_classification.py:106\u001b[0m, in \u001b[0;36m_check_targets\u001b[1;34m(y_true, y_pred)\u001b[0m\n\u001b[0;32m    104\u001b[0m \u001b[38;5;66;03m# No metrics support \"multiclass-multioutput\" format\u001b[39;00m\n\u001b[0;32m    105\u001b[0m \u001b[38;5;28;01mif\u001b[39;00m y_type \u001b[38;5;129;01mnot\u001b[39;00m \u001b[38;5;129;01min\u001b[39;00m [\u001b[38;5;124m\"\u001b[39m\u001b[38;5;124mbinary\u001b[39m\u001b[38;5;124m\"\u001b[39m, \u001b[38;5;124m\"\u001b[39m\u001b[38;5;124mmulticlass\u001b[39m\u001b[38;5;124m\"\u001b[39m, \u001b[38;5;124m\"\u001b[39m\u001b[38;5;124mmultilabel-indicator\u001b[39m\u001b[38;5;124m\"\u001b[39m]:\n\u001b[1;32m--> 106\u001b[0m     \u001b[38;5;28;01mraise\u001b[39;00m \u001b[38;5;167;01mValueError\u001b[39;00m(\u001b[38;5;124m\"\u001b[39m\u001b[38;5;132;01m{0}\u001b[39;00m\u001b[38;5;124m is not supported\u001b[39m\u001b[38;5;124m\"\u001b[39m\u001b[38;5;241m.\u001b[39mformat(y_type))\n\u001b[0;32m    108\u001b[0m \u001b[38;5;28;01mif\u001b[39;00m y_type \u001b[38;5;129;01min\u001b[39;00m [\u001b[38;5;124m\"\u001b[39m\u001b[38;5;124mbinary\u001b[39m\u001b[38;5;124m\"\u001b[39m, \u001b[38;5;124m\"\u001b[39m\u001b[38;5;124mmulticlass\u001b[39m\u001b[38;5;124m\"\u001b[39m]:\n\u001b[0;32m    109\u001b[0m     y_true \u001b[38;5;241m=\u001b[39m column_or_1d(y_true)\n",
      "\u001b[1;31mValueError\u001b[0m: continuous is not supported"
     ]
    }
   ],
   "source": [
    "accuracy = accuracy_score(y_test, y_pred)\n",
    "print('Model accuracy:', accuracy)"
   ]
  },
  {
   "cell_type": "code",
   "execution_count": null,
   "id": "9b3c5d18",
   "metadata": {},
   "outputs": [],
   "source": []
  }
 ],
 "metadata": {
  "kernelspec": {
   "display_name": "Python 3 (ipykernel)",
   "language": "python",
   "name": "python3"
  },
  "language_info": {
   "codemirror_mode": {
    "name": "ipython",
    "version": 3
   },
   "file_extension": ".py",
   "mimetype": "text/x-python",
   "name": "python",
   "nbconvert_exporter": "python",
   "pygments_lexer": "ipython3",
   "version": "3.10.9"
  }
 },
 "nbformat": 4,
 "nbformat_minor": 5
}
