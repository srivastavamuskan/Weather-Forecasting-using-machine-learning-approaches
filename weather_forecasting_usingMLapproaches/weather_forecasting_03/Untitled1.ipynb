{
 "cells": [
  {
   "cell_type": "code",
   "execution_count": 1,
   "id": "4b47f309",
   "metadata": {},
   "outputs": [],
   "source": [
    "import pandas as pd\n",
    "import numpy as np\n",
    "from sklearn import svm\n",
    "from sklearn.preprocessing import StandardScaler\n",
    "from sklearn.model_selection import train_test_split, GridSearchCV\n",
    "from sklearn.metrics import accuracy_score\n",
    "from sklearn.metrics import mean_absolute_error, mean_squared_error, r2_score"
   ]
  },
  {
   "cell_type": "code",
   "execution_count": 2,
   "id": "1c893adc",
   "metadata": {},
   "outputs": [],
   "source": [
    "weather_data = pd.read_csv('PowerClimateJaipur.csv')"
   ]
  },
  {
   "cell_type": "code",
   "execution_count": 3,
   "id": "0d44b8d2",
   "metadata": {},
   "outputs": [
    {
     "data": {
      "text/html": [
       "<div>\n",
       "<style scoped>\n",
       "    .dataframe tbody tr th:only-of-type {\n",
       "        vertical-align: middle;\n",
       "    }\n",
       "\n",
       "    .dataframe tbody tr th {\n",
       "        vertical-align: top;\n",
       "    }\n",
       "\n",
       "    .dataframe thead th {\n",
       "        text-align: right;\n",
       "    }\n",
       "</style>\n",
       "<table border=\"1\" class=\"dataframe\">\n",
       "  <thead>\n",
       "    <tr style=\"text-align: right;\">\n",
       "      <th></th>\n",
       "      <th>YEAR</th>\n",
       "      <th>MO</th>\n",
       "      <th>DY</th>\n",
       "      <th>T2M</th>\n",
       "      <th>T2MDEW</th>\n",
       "      <th>T2M_MIN</th>\n",
       "      <th>T2M_MAX</th>\n",
       "      <th>QV2M</th>\n",
       "      <th>PRECTOTCORR</th>\n",
       "      <th>PS</th>\n",
       "      <th>WS50M_MAX</th>\n",
       "      <th>WS50M_MIN</th>\n",
       "      <th>WS10M</th>\n",
       "    </tr>\n",
       "  </thead>\n",
       "  <tbody>\n",
       "    <tr>\n",
       "      <th>0</th>\n",
       "      <td>1985</td>\n",
       "      <td>1</td>\n",
       "      <td>1</td>\n",
       "      <td>12.36</td>\n",
       "      <td>-2.92</td>\n",
       "      <td>5.68</td>\n",
       "      <td>21.50</td>\n",
       "      <td>3.23</td>\n",
       "      <td>0.00</td>\n",
       "      <td>96.89</td>\n",
       "      <td>7.97</td>\n",
       "      <td>3.25</td>\n",
       "      <td>3.35</td>\n",
       "    </tr>\n",
       "    <tr>\n",
       "      <th>1</th>\n",
       "      <td>1985</td>\n",
       "      <td>1</td>\n",
       "      <td>2</td>\n",
       "      <td>11.18</td>\n",
       "      <td>-7.24</td>\n",
       "      <td>4.64</td>\n",
       "      <td>20.35</td>\n",
       "      <td>2.26</td>\n",
       "      <td>0.00</td>\n",
       "      <td>97.19</td>\n",
       "      <td>8.47</td>\n",
       "      <td>0.76</td>\n",
       "      <td>3.15</td>\n",
       "    </tr>\n",
       "    <tr>\n",
       "      <th>2</th>\n",
       "      <td>1985</td>\n",
       "      <td>1</td>\n",
       "      <td>3</td>\n",
       "      <td>11.23</td>\n",
       "      <td>-8.38</td>\n",
       "      <td>5.12</td>\n",
       "      <td>19.85</td>\n",
       "      <td>2.01</td>\n",
       "      <td>0.00</td>\n",
       "      <td>97.19</td>\n",
       "      <td>7.74</td>\n",
       "      <td>0.46</td>\n",
       "      <td>2.54</td>\n",
       "    </tr>\n",
       "    <tr>\n",
       "      <th>3</th>\n",
       "      <td>1985</td>\n",
       "      <td>1</td>\n",
       "      <td>4</td>\n",
       "      <td>12.77</td>\n",
       "      <td>-6.98</td>\n",
       "      <td>5.69</td>\n",
       "      <td>20.59</td>\n",
       "      <td>2.26</td>\n",
       "      <td>0.00</td>\n",
       "      <td>96.91</td>\n",
       "      <td>6.34</td>\n",
       "      <td>1.61</td>\n",
       "      <td>2.80</td>\n",
       "    </tr>\n",
       "    <tr>\n",
       "      <th>4</th>\n",
       "      <td>1985</td>\n",
       "      <td>1</td>\n",
       "      <td>5</td>\n",
       "      <td>13.75</td>\n",
       "      <td>-1.00</td>\n",
       "      <td>7.94</td>\n",
       "      <td>22.08</td>\n",
       "      <td>3.72</td>\n",
       "      <td>0.01</td>\n",
       "      <td>96.81</td>\n",
       "      <td>8.22</td>\n",
       "      <td>1.06</td>\n",
       "      <td>2.95</td>\n",
       "    </tr>\n",
       "  </tbody>\n",
       "</table>\n",
       "</div>"
      ],
      "text/plain": [
       "   YEAR  MO  DY    T2M  T2MDEW  T2M_MIN  T2M_MAX  QV2M  PRECTOTCORR     PS  \\\n",
       "0  1985   1   1  12.36   -2.92     5.68    21.50  3.23         0.00  96.89   \n",
       "1  1985   1   2  11.18   -7.24     4.64    20.35  2.26         0.00  97.19   \n",
       "2  1985   1   3  11.23   -8.38     5.12    19.85  2.01         0.00  97.19   \n",
       "3  1985   1   4  12.77   -6.98     5.69    20.59  2.26         0.00  96.91   \n",
       "4  1985   1   5  13.75   -1.00     7.94    22.08  3.72         0.01  96.81   \n",
       "\n",
       "   WS50M_MAX  WS50M_MIN  WS10M  \n",
       "0       7.97       3.25   3.35  \n",
       "1       8.47       0.76   3.15  \n",
       "2       7.74       0.46   2.54  \n",
       "3       6.34       1.61   2.80  \n",
       "4       8.22       1.06   2.95  "
      ]
     },
     "execution_count": 3,
     "metadata": {},
     "output_type": "execute_result"
    }
   ],
   "source": [
    "weather_data.head()"
   ]
  },
  {
   "cell_type": "code",
   "execution_count": 4,
   "id": "475d6fd2",
   "metadata": {},
   "outputs": [],
   "source": [
    "weather_data = weather_data.drop(['YEAR', 'MO', 'DY'], axis=1)"
   ]
  },
  {
   "cell_type": "code",
   "execution_count": 5,
   "id": "1471b6f7",
   "metadata": {},
   "outputs": [],
   "source": [
    "weather_data.dropna(inplace=True)\n",
    "X = weather_data[['T2M', 'T2MDEW', 'T2M_MIN', 'T2M_MAX', 'QV2M', 'PRECTOTCORR', 'PS', 'WS50M_MAX', 'WS50M_MIN', 'WS10M']]\n",
    "y = weather_data['PRECTOTCORR']"
   ]
  },
  {
   "cell_type": "code",
   "execution_count": 6,
   "id": "ca37fb01",
   "metadata": {},
   "outputs": [],
   "source": [
    "X_train, X_test, y_train, y_test = train_test_split(X, y, test_size=0.2, random_state=42)"
   ]
  },
  {
   "cell_type": "code",
   "execution_count": 7,
   "id": "7c50aeb6",
   "metadata": {},
   "outputs": [],
   "source": [
    "scaler = StandardScaler()\n",
    "X_train = scaler.fit_transform(X_train)\n",
    "X_test = scaler.transform(X_test)"
   ]
  },
  {
   "cell_type": "code",
   "execution_count": 8,
   "id": "42b38b17",
   "metadata": {},
   "outputs": [],
   "source": [
    "from sklearn.model_selection import GridSearchCV\n",
    "from sklearn.svm import SVC\n",
    "from sklearn.pipeline import Pipeline\n",
    "from sklearn.preprocessing import StandardScaler\n",
    "from sklearn.neural_network import MLPRegressor"
   ]
  },
  {
   "cell_type": "code",
   "execution_count": 9,
   "id": "53a4f1ed",
   "metadata": {},
   "outputs": [],
   "source": [
    "svm = SVC()"
   ]
  },
  {
   "cell_type": "code",
   "execution_count": 10,
   "id": "e472f0bb",
   "metadata": {},
   "outputs": [],
   "source": [
    "param_grid = {\n",
    "    'hidden_layer_sizes': [(10,), (20,), (30,), (40,), (50,), (60,), (70,), (80,), (90,), (100,)],\n",
    "    'activation': ['relu', 'logistic', 'tanh'],\n",
    "    'solver': ['lbfgs', 'adam', 'sgd'],\n",
    "    'alpha': [0.0001, 0.001, 0.01, 0.1],\n",
    "    'learning_rate': ['constant', 'adaptive']\n",
    "}"
   ]
  },
  {
   "cell_type": "code",
   "execution_count": 11,
   "id": "704d2054",
   "metadata": {},
   "outputs": [],
   "source": [
    "regressor = MLPRegressor(max_iter=500)"
   ]
  },
  {
   "cell_type": "code",
   "execution_count": null,
   "id": "14133a79",
   "metadata": {},
   "outputs": [
    {
     "name": "stdout",
     "output_type": "stream",
     "text": [
      "Fitting 5 folds for each of 720 candidates, totalling 3600 fits\n"
     ]
    }
   ],
   "source": [
    "grid_search = GridSearchCV(regressor, param_grid, cv=5, n_jobs=-1, verbose=2)\n",
    "grid_search.fit(X_train, y_train)"
   ]
  },
  {
   "cell_type": "code",
   "execution_count": null,
   "id": "75e65421",
   "metadata": {},
   "outputs": [],
   "source": [
    "y_pred = model.predict(X_test)"
   ]
  },
  {
   "cell_type": "code",
   "execution_count": 15,
   "id": "d2b9ca3b",
   "metadata": {},
   "outputs": [],
   "source": [
    "mae = mean_absolute_error(y_test, y_pred)\n",
    "mse = mean_squared_error(y_test, y_pred)\n",
    "r2 = r2_score(y_test, y_pred)"
   ]
  },
  {
   "cell_type": "code",
   "execution_count": 16,
   "id": "7e399aa0",
   "metadata": {},
   "outputs": [
    {
     "name": "stdout",
     "output_type": "stream",
     "text": [
      "Mean Absolute Error: 0.10784313725490197\n",
      "Mean Squared Error: 0.13725490196078433\n",
      "R-squared Score: 0.9963875606104972\n"
     ]
    }
   ],
   "source": [
    "print('Mean Absolute Error:', mae)\n",
    "print('Mean Squared Error:', mse)\n",
    "print('R-squared Score:', r2)"
   ]
  },
  {
   "cell_type": "code",
   "execution_count": null,
   "id": "5b2d5ffb",
   "metadata": {},
   "outputs": [],
   "source": []
  }
 ],
 "metadata": {
  "kernelspec": {
   "display_name": "Python 3 (ipykernel)",
   "language": "python",
   "name": "python3"
  },
  "language_info": {
   "codemirror_mode": {
    "name": "ipython",
    "version": 3
   },
   "file_extension": ".py",
   "mimetype": "text/x-python",
   "name": "python",
   "nbconvert_exporter": "python",
   "pygments_lexer": "ipython3",
   "version": "3.10.9"
  }
 },
 "nbformat": 4,
 "nbformat_minor": 5
}
